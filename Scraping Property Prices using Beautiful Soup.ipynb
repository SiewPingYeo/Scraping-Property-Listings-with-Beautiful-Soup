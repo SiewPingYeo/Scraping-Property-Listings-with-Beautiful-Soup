{
 "cells": [
  {
   "cell_type": "markdown",
   "id": "9d851cb9",
   "metadata": {},
   "source": [
    "# Scraping Property Prices using Beautiful Soup\n"
   ]
  },
  {
   "cell_type": "markdown",
   "id": "8f61d903",
   "metadata": {},
   "source": [
    "This project aims to scrape propety listing details from 99.co - a Singapore online property website. It has the latest listings for all types of properties, with listing updated almost every hour. \n",
    "Therefore, we will scrape the sale listing details from the website using Beautuful Soup and store it as pandas dataframe for future projects. "
   ]
  },
  {
   "cell_type": "markdown",
   "id": "486468ba",
   "metadata": {},
   "source": [
    "## 1. Import Relevant Libraries"
   ]
  },
  {
   "cell_type": "code",
   "execution_count": 3,
   "id": "15ab35bc",
   "metadata": {},
   "outputs": [],
   "source": [
    "import requests\n",
    "from bs4 import BeautifulSoup\n",
    "import pandas as pd"
   ]
  },
  {
   "cell_type": "markdown",
   "id": "4415d977",
   "metadata": {},
   "source": [
    "## 2. Extract the elements Individually"
   ]
  },
  {
   "cell_type": "code",
   "execution_count": null,
   "id": "7d286077",
   "metadata": {},
   "outputs": [],
   "source": [
    "# Request access to URL through requests.post\n",
    "header = {'User-Agent': 'Mozilla/5.0 (Windows NT 10.0; Win64; x64) AppleWebKit/537.36 (KHTML, like Gecko) Chrome/99.0.4844.82 Safari/537.36'}\n",
    "post = requests.post('https://www.99.co/singapore/s/sale?isFilterUnapplied=false&listing_type=sale&map_bounds=1.5827095153768858%2C103.49449749970108%2C1.1090706240313446%2C104.12483807587296&page_num=1&page_size=35&property_segments=residential&query_coords=1.3039947%2C103.8298507&query_limit=radius&query_type=city&radius_max=1000&rental_type=unit&show_cluster_preview=true&show_description=true&show_future_mrts=true&show_internal_linking=true&show_meta_description=true&show_nearby=true&zoom=11', headers = header)\n",
    "html = post.content\n",
    "\n",
    "#Use Beautiful Soup parser 'lxml' to parse the HTML document \n",
    "soup = BeautifulSoup(html, \"lxml\")"
   ]
  },
  {
   "cell_type": "code",
   "execution_count": 116,
   "id": "527d99c8",
   "metadata": {},
   "outputs": [
    {
     "data": {
      "text/plain": [
       "'4 Room HDB in 472C Fernvale Street'"
      ]
     },
     "execution_count": 116,
     "metadata": {},
     "output_type": "execute_result"
    }
   ],
   "source": [
    "# To extract the title of the property \n",
    "names = soup.findAll('a', class_= '_3Ajbv _30I97 _1vzK2')\n",
    "names[0].get_text(strip= True)"
   ]
  },
  {
   "cell_type": "code",
   "execution_count": 15,
   "id": "f2092429",
   "metadata": {},
   "outputs": [
    {
     "data": {
      "text/plain": [
       "'$620,000'"
      ]
     },
     "execution_count": 15,
     "metadata": {},
     "output_type": "execute_result"
    }
   ],
   "source": [
    "# To extract the price for the property \n",
    "price = soup.findAll('p', class_ = '_2sIc2 JlU_W _2rhE-')\n",
    "price[0].get_text(strip= True)"
   ]
  },
  {
   "cell_type": "code",
   "execution_count": 21,
   "id": "20ff2475",
   "metadata": {},
   "outputs": [
    {
     "data": {
      "text/plain": [
       "'$484 psf'"
      ]
     },
     "execution_count": 21,
     "metadata": {},
     "output_type": "execute_result"
    }
   ],
   "source": [
    "# To extract the price per square foot \n",
    "psf = soup.findAll('p', class_ = '_2y86Q _1iMmV _2rhE-')\n",
    "psf[0].get_text(strip = True )\n"
   ]
  },
  {
   "cell_type": "code",
   "execution_count": 106,
   "id": "e704f6e7",
   "metadata": {},
   "outputs": [
    {
     "data": {
      "text/plain": [
       "['3 Beds',\n",
       " '2 Baths',\n",
       " '1,001 sqft / 93 sqm',\n",
       " '4 Beds',\n",
       " '4 Baths',\n",
       " '2,034 sqft / 188.96 sqm',\n",
       " '4 Beds',\n",
       " '4 Baths',\n",
       " '1,658 sqft / 154.03 sqm',\n",
       " '3 Beds',\n",
       " '2 Baths',\n",
       " '1,216 sqft / 112.97 sqm',\n",
       " '3 Beds',\n",
       " '2 Baths',\n",
       " '1,206 sqft / 112.04 sqm',\n",
       " '3 Beds',\n",
       " '4 Baths',\n",
       " '1,152 sqft / 107.02 sqm',\n",
       " '1 Bed',\n",
       " '1 Bath',\n",
       " '570 sqft / 52.95 sqm',\n",
       " '3 Beds',\n",
       " '2 Baths',\n",
       " '1,130 sqft / 104.98 sqm',\n",
       " '3 Beds',\n",
       " '3 Baths',\n",
       " '1,259 sqft / 116.96 sqm',\n",
       " '3 Beds',\n",
       " '2 Baths',\n",
       " '904 sqft / 83.98 sqm',\n",
       " '3 Beds',\n",
       " '2 Baths',\n",
       " '926 sqft / 86.03 sqm',\n",
       " '2 Beds',\n",
       " '2 Baths',\n",
       " '1,055 sqft / 98.01 sqm',\n",
       " '3 Beds',\n",
       " '2 Baths',\n",
       " '1,399 sqft / 129.97 sqm',\n",
       " '2 Beds',\n",
       " '2 Baths',\n",
       " '721 sqft / 66.98 sqm',\n",
       " '2 Beds',\n",
       " '2 Baths',\n",
       " '721 sqft / 66.98 sqm',\n",
       " '5 Beds',\n",
       " '5 Baths',\n",
       " '3,175 sqft / 294.97 sqm',\n",
       " 'built-up',\n",
       " '1 Bed',\n",
       " '1 Bath',\n",
       " '538 sqft / 49.98 sqm',\n",
       " '3 Beds',\n",
       " '2 Baths',\n",
       " '1,108 sqft / 102.94 sqm',\n",
       " '2 Beds',\n",
       " '2 Baths',\n",
       " '1,012 sqft / 94.02 sqm',\n",
       " '4 Beds',\n",
       " '3 Baths',\n",
       " '3,225 sqft / 299.61 sqm',\n",
       " '2 Beds',\n",
       " '2 Baths',\n",
       " '915 sqft / 85.01 sqm',\n",
       " '2 Beds',\n",
       " '2 Baths',\n",
       " '850 sqft / 78.97 sqm',\n",
       " '2 Beds',\n",
       " '1 Bath',\n",
       " '786 sqft / 73.02 sqm',\n",
       " '2 Beds',\n",
       " '2 Baths',\n",
       " '743 sqft / 69.03 sqm',\n",
       " '1 Bed',\n",
       " '1 Bath',\n",
       " '506 sqft / 47.01 sqm',\n",
       " '2 Beds',\n",
       " '2 Baths',\n",
       " '893 sqft / 82.96 sqm',\n",
       " '3 Beds',\n",
       " '3 Baths',\n",
       " '990 sqft / 91.97 sqm',\n",
       " '3 Beds',\n",
       " '3 Baths',\n",
       " '958 sqft / 89 sqm',\n",
       " '3 Beds',\n",
       " '2 Baths',\n",
       " '990 sqft / 91.97 sqm',\n",
       " '1 Bed',\n",
       " '1 Bath',\n",
       " '398 sqft / 36.98 sqm',\n",
       " '3 Beds',\n",
       " '2 Baths',\n",
       " '1,066 sqft / 99.03 sqm',\n",
       " '4 Beds',\n",
       " '3 Baths',\n",
       " '1,592 sqft / 147.9 sqm',\n",
       " '3 Beds',\n",
       " '2 Baths',\n",
       " '990 sqft / 91.97 sqm',\n",
       " '1 Bed',\n",
       " '1 Bath',\n",
       " '441 sqft / 40.97 sqm',\n",
       " '3 Beds',\n",
       " '3 Baths',\n",
       " '1,345 sqft / 124.95 sqm']"
      ]
     },
     "execution_count": 106,
     "metadata": {},
     "output_type": "execute_result"
    }
   ],
   "source": [
    "# To extract Number of bedrooms\n",
    "bed = soup.findAll('p', class_ = 'dniCg _2rhE- _1c-pJ')\n",
    "total = []\n",
    "\n",
    "for i in range(len(bed)):\n",
    "    p = bed[i].get_text(strip = True)\n",
    "    total.append(p)\n",
    "    \n",
    "total"
   ]
  },
  {
   "cell_type": "markdown",
   "id": "25994b67",
   "metadata": {},
   "source": [
    "This HTML tag includes the info for number of bedrooms, bathrooms and size of property. Hence, there is a need to filter them out from the same HTML tag. "
   ]
  },
  {
   "cell_type": "code",
   "execution_count": 132,
   "id": "5d9918a6",
   "metadata": {},
   "outputs": [
    {
     "data": {
      "text/plain": [
       "30"
      ]
     },
     "execution_count": 132,
     "metadata": {},
     "output_type": "execute_result"
    }
   ],
   "source": [
    "Bed = [s for s in total if s.endswith('Beds' or 'Bed')]\n",
    "len(Bed)"
   ]
  },
  {
   "cell_type": "code",
   "execution_count": 113,
   "id": "e7aeb90f",
   "metadata": {},
   "outputs": [
    {
     "data": {
      "text/plain": [
       "29"
      ]
     },
     "execution_count": 113,
     "metadata": {},
     "output_type": "execute_result"
    }
   ],
   "source": [
    "Baths = [s for s in total if s.endswith('Baths' or 'Bath')]\n",
    "len(Baths)"
   ]
  },
  {
   "cell_type": "code",
   "execution_count": 104,
   "id": "2f09c536",
   "metadata": {},
   "outputs": [
    {
     "data": {
      "text/plain": [
       "35"
      ]
     },
     "execution_count": 104,
     "metadata": {},
     "output_type": "execute_result"
    }
   ],
   "source": [
    "# To extract property size \n",
    "Size = []\n",
    "for i in range(len(bed)):\n",
    "    n = bed[i].get_text(strip = True)\n",
    "    Size.append(n)\n",
    "    Size = [s for s in Size if s.endswith('sqm')]\n",
    "Size\n",
    "len(Size)"
   ]
  },
  {
   "cell_type": "markdown",
   "id": "eb80b3eb",
   "metadata": {},
   "source": [
    "## 3. Build web scraper to loop through multiple pages "
   ]
  },
  {
   "cell_type": "code",
   "execution_count": 140,
   "id": "b2c47906",
   "metadata": {},
   "outputs": [],
   "source": [
    "# Write a For loop to loop through multiple pages \n",
    "\n",
    "page = 1\n",
    "h = 100\n",
    "titles = []\n",
    "Psf = []\n",
    "Price = []\n",
    "Size = []\n",
    "Bed = []\n",
    "Baths = []\n",
    "\n",
    "for page in range(1, h, 1):\n",
    "    url = f\"https://www.99.co/singapore/s/sale?isFilterUnapplied=false&listing_type=sale&map_bounds=1.5827095153768858%2C103.49449749970108%2C1.1090706240313446%2C104.12483807587296&page_num={page}&page_size=35&property_segments=residential&query_coords=1.3039947%2C103.8298507&query_limit=radius&query_type=city&radius_max=1000&rental_type=unit&show_cluster_preview=true&show_description=true&show_future_mrts=true&show_internal_linking=true&show_meta_description=true&show_nearby=true&zoom=11\"\n",
    "    header = {'User-Agent': 'Mozilla/5.0 (Windows NT 10.0; Win64; x64) AppleWebKit/537.36 (KHTML, like Gecko) Chrome/99.0.4844.82 Safari/537.36'}\n",
    "    post = requests.post('https://www.99.co/singapore/s/sale?isFilterUnapplied=false&listing_type=sale&map_bounds=1.5827095153768858%2C103.49449749970108%2C1.1090706240313446%2C104.12483807587296&page_num=1&page_size=35&property_segments=residential&query_coords=1.3039947%2C103.8298507&query_limit=radius&query_type=city&radius_max=1000&rental_type=unit&show_cluster_preview=true&show_description=true&show_future_mrts=true&show_internal_linking=true&show_meta_description=true&show_nearby=true&zoom=11', headers = header)\n",
    "    html = post.content\n",
    "    soup = BeautifulSoup(html, \"lxml\")\n",
    "    \n",
    "    #To extract title of property\n",
    "    names = soup.findAll('a', class_= '_3Ajbv _30I97 _1vzK2')\n",
    "    for i in range(len(names)):\n",
    "        n = names[i].get_text(strip= True)\n",
    "        titles.append(n)\n",
    "        \n",
    "    #To extract the price of property \n",
    "    price = soup.findAll('p', class_ = '_2sIc2 JlU_W _2rhE-')\n",
    "    for i in range(len(price)):\n",
    "        P = price[i].get_text(strip= True)\n",
    "        Price.append(P)\n",
    "    \n",
    "    #To extract the psf of a property\n",
    "    psf = soup.findAll('p', class_ = '_2y86Q _1iMmV _2rhE-')\n",
    "    for i in range(len(psf)):\n",
    "        s = psf[i].get_text(strip = True)\n",
    "        Psf.append(s)\n",
    "    \n",
    "    # To extract the size of property \n",
    "    total = soup.findAll('p', class_ = 'dniCg _2rhE- _1c-pJ')\n",
    "    for i in range(len(total)):\n",
    "        p = total[i].get_text(strip = True)\n",
    "        Size.append(p)\n",
    "        Size = [s for s in Size if s.endswith('sqm')]\n",
    "         # To extract the number of bedrooms\n",
    "        Bed.append(p)\n",
    "        Bed = [s for s in Bed if s.endswith('Beds' or 'Bed')]\n",
    "         # To extract the number of bathrooms\n",
    "        Baths.append(p)\n",
    "        Baths = [s for s in Baths if s.endswith('Baths' or 'Bath')]\n",
    "\n",
    "    page = page + 1\n",
    "    \n",
    "    "
   ]
  },
  {
   "cell_type": "code",
   "execution_count": 146,
   "id": "1305fd8b",
   "metadata": {},
   "outputs": [
    {
     "data": {
      "text/plain": [
       "3465"
      ]
     },
     "execution_count": 146,
     "metadata": {},
     "output_type": "execute_result"
    }
   ],
   "source": [
    "len(Size)"
   ]
  },
  {
   "cell_type": "code",
   "execution_count": 148,
   "id": "abf454a5",
   "metadata": {},
   "outputs": [],
   "source": [
    "# Create dataframe to store data\n",
    "df = pd.DataFrame(list(zip(titles, Price, Psf, Size, Bed, Baths)),\n",
    "               columns =['Name', 'Price', 'psf', 'Size', 'No. of Bedrooms', 'No. of Bathrooms'])\n"
   ]
  },
  {
   "cell_type": "code",
   "execution_count": 149,
   "id": "e79f35f8",
   "metadata": {},
   "outputs": [
    {
     "data": {
      "text/html": [
       "<div>\n",
       "<style scoped>\n",
       "    .dataframe tbody tr th:only-of-type {\n",
       "        vertical-align: middle;\n",
       "    }\n",
       "\n",
       "    .dataframe tbody tr th {\n",
       "        vertical-align: top;\n",
       "    }\n",
       "\n",
       "    .dataframe thead th {\n",
       "        text-align: right;\n",
       "    }\n",
       "</style>\n",
       "<table border=\"1\" class=\"dataframe\">\n",
       "  <thead>\n",
       "    <tr style=\"text-align: right;\">\n",
       "      <th></th>\n",
       "      <th>Name</th>\n",
       "      <th>Price</th>\n",
       "      <th>psf</th>\n",
       "      <th>Size</th>\n",
       "      <th>No. of Bedrooms</th>\n",
       "      <th>No. of Bathrooms</th>\n",
       "    </tr>\n",
       "  </thead>\n",
       "  <tbody>\n",
       "    <tr>\n",
       "      <th>0</th>\n",
       "      <td>4 Bed Condo in The Coast At Sentosa Cove</td>\n",
       "      <td>$3,800,000</td>\n",
       "      <td>$1,612 psf</td>\n",
       "      <td>2,357 sqft / 218.97 sqm</td>\n",
       "      <td>4 Beds</td>\n",
       "      <td>4 Baths</td>\n",
       "    </tr>\n",
       "    <tr>\n",
       "      <th>1</th>\n",
       "      <td>3 Room HDB in 24 Marsiling Drive</td>\n",
       "      <td>$399,000</td>\n",
       "      <td>$399 psf</td>\n",
       "      <td>1,000 sqft / 92.9 sqm</td>\n",
       "      <td>3 Beds</td>\n",
       "      <td>2 Baths</td>\n",
       "    </tr>\n",
       "    <tr>\n",
       "      <th>2</th>\n",
       "      <td>3 Bed Condo in Yong Siak Court</td>\n",
       "      <td>$2,680,000</td>\n",
       "      <td>$1,805 psf</td>\n",
       "      <td>1,485 sqft / 137.96 sqm</td>\n",
       "      <td>3 Beds</td>\n",
       "      <td>2 Baths</td>\n",
       "    </tr>\n",
       "    <tr>\n",
       "      <th>3</th>\n",
       "      <td>3 Room HDB in 978D Buangkok Crescent</td>\n",
       "      <td>$488,888</td>\n",
       "      <td>$505 psf</td>\n",
       "      <td>968 sqft / 89.93 sqm</td>\n",
       "      <td>3 Beds</td>\n",
       "      <td>2 Baths</td>\n",
       "    </tr>\n",
       "    <tr>\n",
       "      <th>4</th>\n",
       "      <td>5 Bed House on Kasara</td>\n",
       "      <td>$21,000,000</td>\n",
       "      <td>$2,323 psf</td>\n",
       "      <td>9,042 sqft / 840.03 sqm</td>\n",
       "      <td>5 Beds</td>\n",
       "      <td>5 Baths</td>\n",
       "    </tr>\n",
       "    <tr>\n",
       "      <th>...</th>\n",
       "      <td>...</td>\n",
       "      <td>...</td>\n",
       "      <td>...</td>\n",
       "      <td>...</td>\n",
       "      <td>...</td>\n",
       "      <td>...</td>\n",
       "    </tr>\n",
       "    <tr>\n",
       "      <th>3251</th>\n",
       "      <td>Exec HDB in 164 Bukit Batok Street 11</td>\n",
       "      <td>$1,050,000</td>\n",
       "      <td>$668 psf</td>\n",
       "      <td>1,571 sqft / 145.95 sqm</td>\n",
       "      <td>3 Beds</td>\n",
       "      <td>2 Baths</td>\n",
       "    </tr>\n",
       "    <tr>\n",
       "      <th>3252</th>\n",
       "      <td>2 Bed Condo in 6 Derbyshire</td>\n",
       "      <td>$1,750,000</td>\n",
       "      <td>$2,391 psf</td>\n",
       "      <td>732 sqft / 68 sqm</td>\n",
       "      <td>4 Beds</td>\n",
       "      <td>4 Baths</td>\n",
       "    </tr>\n",
       "    <tr>\n",
       "      <th>3253</th>\n",
       "      <td>4 Room HDB in 672B Yishun Avenue 4</td>\n",
       "      <td>$588,888</td>\n",
       "      <td>$595 psf</td>\n",
       "      <td>990 sqft / 91.97 sqm</td>\n",
       "      <td>2 Beds</td>\n",
       "      <td>2 Baths</td>\n",
       "    </tr>\n",
       "    <tr>\n",
       "      <th>3254</th>\n",
       "      <td>3 Room HDB in 113D Mcnair Road</td>\n",
       "      <td>$930,000</td>\n",
       "      <td>$930 psf</td>\n",
       "      <td>1,000 sqft / 92.9 sqm</td>\n",
       "      <td>3 Beds</td>\n",
       "      <td>2 Baths</td>\n",
       "    </tr>\n",
       "    <tr>\n",
       "      <th>3255</th>\n",
       "      <td>5 Room HDB in 128 Geylang East Avenue 1</td>\n",
       "      <td>$840,000</td>\n",
       "      <td>$592 psf</td>\n",
       "      <td>1,420 sqft / 131.92 sqm</td>\n",
       "      <td>3 Beds</td>\n",
       "      <td>2 Baths</td>\n",
       "    </tr>\n",
       "  </tbody>\n",
       "</table>\n",
       "<p>3256 rows × 6 columns</p>\n",
       "</div>"
      ],
      "text/plain": [
       "                                          Name        Price         psf  \\\n",
       "0     4 Bed Condo in The Coast At Sentosa Cove   $3,800,000  $1,612 psf   \n",
       "1             3 Room HDB in 24 Marsiling Drive     $399,000    $399 psf   \n",
       "2               3 Bed Condo in Yong Siak Court   $2,680,000  $1,805 psf   \n",
       "3         3 Room HDB in 978D Buangkok Crescent     $488,888    $505 psf   \n",
       "4                        5 Bed House on Kasara  $21,000,000  $2,323 psf   \n",
       "...                                        ...          ...         ...   \n",
       "3251     Exec HDB in 164 Bukit Batok Street 11   $1,050,000    $668 psf   \n",
       "3252               2 Bed Condo in 6 Derbyshire   $1,750,000  $2,391 psf   \n",
       "3253        4 Room HDB in 672B Yishun Avenue 4     $588,888    $595 psf   \n",
       "3254            3 Room HDB in 113D Mcnair Road     $930,000    $930 psf   \n",
       "3255   5 Room HDB in 128 Geylang East Avenue 1     $840,000    $592 psf   \n",
       "\n",
       "                         Size No. of Bedrooms No. of Bathrooms  \n",
       "0     2,357 sqft / 218.97 sqm          4 Beds          4 Baths  \n",
       "1       1,000 sqft / 92.9 sqm          3 Beds          2 Baths  \n",
       "2     1,485 sqft / 137.96 sqm          3 Beds          2 Baths  \n",
       "3        968 sqft / 89.93 sqm          3 Beds          2 Baths  \n",
       "4     9,042 sqft / 840.03 sqm          5 Beds          5 Baths  \n",
       "...                       ...             ...              ...  \n",
       "3251  1,571 sqft / 145.95 sqm          3 Beds          2 Baths  \n",
       "3252        732 sqft / 68 sqm          4 Beds          4 Baths  \n",
       "3253     990 sqft / 91.97 sqm          2 Beds          2 Baths  \n",
       "3254    1,000 sqft / 92.9 sqm          3 Beds          2 Baths  \n",
       "3255  1,420 sqft / 131.92 sqm          3 Beds          2 Baths  \n",
       "\n",
       "[3256 rows x 6 columns]"
      ]
     },
     "execution_count": 149,
     "metadata": {},
     "output_type": "execute_result"
    }
   ],
   "source": [
    "df"
   ]
  },
  {
   "cell_type": "code",
   "execution_count": 150,
   "id": "60e88406",
   "metadata": {},
   "outputs": [],
   "source": [
    "# Save dataframe as CSV for future use\n",
    "df.to_csv('property listings')"
   ]
  }
 ],
 "metadata": {
  "kernelspec": {
   "display_name": "Python 3",
   "language": "python",
   "name": "python3"
  },
  "language_info": {
   "codemirror_mode": {
    "name": "ipython",
    "version": 3
   },
   "file_extension": ".py",
   "mimetype": "text/x-python",
   "name": "python",
   "nbconvert_exporter": "python",
   "pygments_lexer": "ipython3",
   "version": "3.8.8"
  }
 },
 "nbformat": 4,
 "nbformat_minor": 5
}
